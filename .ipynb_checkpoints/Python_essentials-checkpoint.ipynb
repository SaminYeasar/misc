{
 "cells": [
  {
   "cell_type": "markdown",
   "metadata": {},
   "source": [
    "## * For loop in singe line (if else conditioned)\n",
    "*\n",
    "## * random choice"
   ]
  },
  {
   "cell_type": "code",
   "execution_count": null,
   "metadata": {},
   "outputs": [],
   "source": []
  },
  {
   "cell_type": "markdown",
   "metadata": {},
   "source": [
    "## deque\n",
    "- list-like container with fast appends and pops on either end\n",
    "- link: https://docs.python.org/3/library/collections.html#collections.deque"
   ]
  },
  {
   "cell_type": "code",
   "execution_count": 1,
   "metadata": {},
   "outputs": [],
   "source": [
    "from collections import deque"
   ]
  },
  {
   "cell_type": "code",
   "execution_count": 16,
   "metadata": {},
   "outputs": [],
   "source": [
    "d = deque('ghi')"
   ]
  },
  {
   "cell_type": "code",
   "execution_count": 17,
   "metadata": {},
   "outputs": [
    {
     "data": {
      "text/plain": [
       "deque(['g', 'h', 'i'])"
      ]
     },
     "execution_count": 17,
     "metadata": {},
     "output_type": "execute_result"
    }
   ],
   "source": [
    "d"
   ]
  },
  {
   "cell_type": "code",
   "execution_count": 18,
   "metadata": {},
   "outputs": [
    {
     "name": "stdout",
     "output_type": "stream",
     "text": [
      "i\n",
      "deque(['g', 'h'])\n"
     ]
    }
   ],
   "source": [
    "print(d.pop())\n",
    "print(d)\n"
   ]
  },
  {
   "cell_type": "code",
   "execution_count": 19,
   "metadata": {},
   "outputs": [
    {
     "name": "stdout",
     "output_type": "stream",
     "text": [
      "g\n",
      "deque(['h'])\n"
     ]
    }
   ],
   "source": [
    "print(d.popleft())\n",
    "print(d)"
   ]
  },
  {
   "cell_type": "code",
   "execution_count": 20,
   "metadata": {},
   "outputs": [
    {
     "name": "stdout",
     "output_type": "stream",
     "text": [
      "deque(['h', 'f'])\n"
     ]
    }
   ],
   "source": [
    "d.append('f')\n",
    "print(d)"
   ]
  },
  {
   "cell_type": "code",
   "execution_count": 21,
   "metadata": {},
   "outputs": [
    {
     "name": "stdout",
     "output_type": "stream",
     "text": [
      "deque(['f', 'h', 'f'])\n"
     ]
    }
   ],
   "source": [
    "d.appendleft('f')\n",
    "print(d)"
   ]
  },
  {
   "cell_type": "markdown",
   "metadata": {},
   "source": [
    "## np.amax()"
   ]
  },
  {
   "cell_type": "code",
   "execution_count": 26,
   "metadata": {},
   "outputs": [
    {
     "name": "stdout",
     "output_type": "stream",
     "text": [
      "Input array:[[0 1]\n",
      " [2 3]]\n",
      "3\n",
      "[2 3]\n",
      "[1 3]\n"
     ]
    }
   ],
   "source": [
    "import numpy as np\n",
    "a = np.arange(4).reshape((2,2))\n",
    "print('Input array:{}'.format(a))\n",
    "\n",
    "print(np.amax(a))           # Maximum of the flattened array\n",
    "\n",
    "print(np.amax(a, axis=0))   # Maxima along the first axis\n",
    "\n",
    "print(np.amax(a, axis=1))   # Maxima along the second axis\n"
   ]
  },
  {
   "cell_type": "code",
   "execution_count": null,
   "metadata": {},
   "outputs": [],
   "source": []
  }
 ],
 "metadata": {
  "kernelspec": {
   "display_name": "Python 3",
   "language": "python",
   "name": "python3"
  },
  "language_info": {
   "codemirror_mode": {
    "name": "ipython",
    "version": 3
   },
   "file_extension": ".py",
   "mimetype": "text/x-python",
   "name": "python",
   "nbconvert_exporter": "python",
   "pygments_lexer": "ipython3",
   "version": "3.6.7"
  }
 },
 "nbformat": 4,
 "nbformat_minor": 2
}
